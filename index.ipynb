{
 "cells": [
  {
   "cell_type": "markdown",
   "metadata": {},
   "source": [
    "# Interactions - Lab"
   ]
  },
  {
   "cell_type": "markdown",
   "metadata": {},
   "source": [
    "## Introduction"
   ]
  },
  {
   "cell_type": "markdown",
   "metadata": {},
   "source": [
    "In this lab, you'll explore interactions in the Ames Housing dataset."
   ]
  },
  {
   "cell_type": "markdown",
   "metadata": {},
   "source": [
    "## Objectives"
   ]
  },
  {
   "cell_type": "markdown",
   "metadata": {},
   "source": [
    "You will be able to:\n",
    "- Implement interaction terms in Python using the `sklearn` and `statsmodels` packages \n",
    "- Interpret interaction variables in the context of a real-world problem "
   ]
  },
  {
   "cell_type": "markdown",
   "metadata": {},
   "source": [
    "## Build a baseline model "
   ]
  },
  {
   "cell_type": "markdown",
   "metadata": {},
   "source": [
    "You'll use a couple of built-in functions, which we imported for you below: "
   ]
  },
  {
   "cell_type": "code",
   "execution_count": null,
   "metadata": {},
   "outputs": [],
   "source": [
    "from sklearn.linear_model import LinearRegression\n",
    "from sklearn.model_selection import cross_val_score\n",
    "from sklearn.model_selection import KFold\n",
    "import pandas as pd\n",
    "import numpy as np\n",
    "import matplotlib.pyplot as plt"
   ]
  },
  {
   "cell_type": "code",
   "execution_count": 1,
   "metadata": {},
   "outputs": [],
   "source": [
    "# __SOLUTION__ \n",
    "from sklearn.linear_model import LinearRegression\n",
    "from sklearn.model_selection import cross_val_score\n",
    "from sklearn.model_selection import KFold\n",
    "import pandas as pd\n",
    "import numpy as np\n",
    "import matplotlib.pyplot as plt"
   ]
  },
  {
   "cell_type": "markdown",
   "metadata": {},
   "source": [
    "If you still want to build a model in the end, you can do that, but this lab will just focus on finding meaningful insights in interactions and how they can improve $R^2$ values."
   ]
  },
  {
   "cell_type": "code",
   "execution_count": null,
   "metadata": {},
   "outputs": [],
   "source": [
    "regression = LinearRegression()"
   ]
  },
  {
   "cell_type": "code",
   "execution_count": 2,
   "metadata": {},
   "outputs": [],
   "source": [
    "# __SOLUTION__ \n",
    "regression = LinearRegression()"
   ]
  },
  {
   "cell_type": "markdown",
   "metadata": {},
   "source": [
    "Create a baseline model which includes all the variables we selected from the Ames housing data set to predict the house prices. Then use 10-fold cross-validation and report the mean $R^2$ value as the baseline $R^2$."
   ]
  },
  {
   "cell_type": "code",
   "execution_count": null,
   "metadata": {},
   "outputs": [],
   "source": [
    "ames = pd.read_csv('ames.csv')\n",
    "\n",
    "continuous = ['LotArea', '1stFlrSF', 'GrLivArea', 'SalePrice']\n",
    "categoricals = ['BldgType', 'KitchenQual', 'SaleType', 'MSZoning', 'Street', 'Neighborhood']\n",
    "\n",
    "## code here"
   ]
  },
  {
   "cell_type": "code",
   "execution_count": 3,
   "metadata": {},
   "outputs": [
    {
     "data": {
      "text/plain": [
       "0.8174620047489951"
      ]
     },
     "execution_count": 3,
     "metadata": {},
     "output_type": "execute_result"
    }
   ],
   "source": [
    "# __SOLUTION__ \n",
    "ames = pd.read_csv('ames.csv')\n",
    "\n",
    "continuous = ['LotArea', '1stFlrSF', 'GrLivArea', 'SalePrice']\n",
    "categoricals = ['BldgType', 'KitchenQual', 'SaleType', 'MSZoning', 'Street', 'Neighborhood']\n",
    "\n",
    "ames_cont = ames[continuous]\n",
    "\n",
    "# log features\n",
    "log_names = [f'{column}_log' for column in ames_cont.columns]\n",
    "\n",
    "ames_log = np.log(ames_cont)\n",
    "ames_log.columns = log_names\n",
    "\n",
    "# normalize (subract mean and divide by std)\n",
    "\n",
    "def normalize(feature):\n",
    "    return (feature - feature.mean()) / feature.std()\n",
    "\n",
    "ames_log_norm = ames_log.apply(normalize)\n",
    "\n",
    "# one hot encode categoricals\n",
    "ames_ohe = pd.get_dummies(ames[categoricals], prefix=categoricals)\n",
    "\n",
    "preprocessed = pd.concat([ames_log_norm, ames_ohe], axis=1)\n",
    "\n",
    "X = preprocessed.drop('SalePrice_log', axis=1)\n",
    "y = preprocessed['SalePrice_log']\n",
    "\n",
    "crossvalidation = KFold(n_splits=10, shuffle=True, random_state=1)\n",
    "baseline = np.mean(cross_val_score(regression, X, y, scoring='r2', cv=crossvalidation))\n",
    "\n",
    "baseline"
   ]
  },
  {
   "cell_type": "markdown",
   "metadata": {},
   "source": [
    "## See how interactions improve your baseline"
   ]
  },
  {
   "cell_type": "markdown",
   "metadata": {},
   "source": [
    "Next, create all possible combinations of interactions, loop over them and add them to the baseline model one by one to see how they affect the $R^2$. We'll look at the 3 interactions which have the biggest effect on our $R^2$, so print out the top 3 combinations.\n",
    "\n",
    "You will create a `for` loop to loop through all the combinations of 2 predictors. You can use `combinations` from itertools to create a list of all the pairwise combinations. To find more info on how this is done, have a look [here](https://docs.python.org/2/library/itertools.html).\n",
    "\n",
    "Since there are so many different neighbourhoods we will exclude"
   ]
  },
  {
   "cell_type": "code",
   "execution_count": null,
   "metadata": {},
   "outputs": [],
   "source": [
    "from itertools import combinations"
   ]
  },
  {
   "cell_type": "code",
   "execution_count": null,
   "metadata": {},
   "outputs": [],
   "source": [
    "# code to find top interactions by R^2 value here"
   ]
  },
  {
   "cell_type": "code",
   "execution_count": 4,
   "metadata": {},
   "outputs": [
    {
     "name": "stdout",
     "output_type": "stream",
     "text": [
      "0\n",
      "50\n",
      "100\n",
      "150\n",
      "200\n",
      "250\n",
      "300\n",
      "350\n",
      "400\n",
      "450\n",
      "500\n",
      "550\n",
      "600\n",
      "650\n",
      "700\n",
      "750\n",
      "800\n",
      "850\n",
      "900\n",
      "950\n",
      "1000\n",
      "1050\n",
      "1100\n",
      "1150\n",
      "1200\n",
      "1250\n",
      "1300\n",
      "1350\n",
      "Top 3 interactions: [('LotArea_log', 'Neighborhood_Mitchel', 0.82), ('GrLivArea_log', 'BldgType_Duplex', 0.82), ('GrLivArea_log', 'KitchenQual_TA', 0.82)]\n"
     ]
    }
   ],
   "source": [
    "# __SOLUTION__ \n",
    "from itertools import combinations\n",
    "\n",
    "interactions = []\n",
    "\n",
    "feat_combinations = combinations(X.columns, 2)\n",
    "\n",
    "data = X.copy()\n",
    "for i, (a, b) in enumerate(feat_combinations):\n",
    "    data['interaction'] = data[a] * data[b]\n",
    "    score = np.mean(cross_val_score(regression, data, y, scoring='r2', cv=crossvalidation))\n",
    "    if score > baseline:\n",
    "        interactions.append((a, b, round(score,3)))\n",
    "    \n",
    "    if i % 50 == 0:\n",
    "        print(i)\n",
    "            \n",
    "print('Top 3 interactions: %s' %sorted(interactions, key=lambda inter: inter[2], reverse=True)[:3])"
   ]
  },
  {
   "cell_type": "markdown",
   "metadata": {},
   "source": [
    "It looks like the top interactions involve the GrLivArea feature so lets add the interaction between GrLivArea and Neighborhood_Mitchel to our model.\n",
    "\n",
    "We can interpret this feature as the relationship between GrLivArea and SalePrice when the house is in Mitchel or not."
   ]
  },
  {
   "cell_type": "markdown",
   "metadata": {},
   "source": [
    "## Visualize the Interaction\n",
    "\n",
    "Separate all houses that are located in Edwards and those that are not. Run a linear regression on each population against `SalePrice`. Visualize the regression line and data points with price on the y axis and LotArea on the x axis."
   ]
  },
  {
   "cell_type": "code",
   "execution_count": null,
   "metadata": {},
   "outputs": [],
   "source": [
    "# Visualization code here"
   ]
  },
  {
   "cell_type": "code",
   "execution_count": 5,
   "metadata": {},
   "outputs": [
    {
     "data": {
      "text/plain": [
       "<matplotlib.legend.Legend at 0x7fb3dc17d910>"
      ]
     },
     "execution_count": 5,
     "metadata": {},
     "output_type": "execute_result"
    },
    {
     "data": {
      "image/png": "[encoded data removed]",
      "text/plain": [
       "<Figure size 936x720 with 1 Axes>"
      ]
     },
     "metadata": {
      "needs_background": "light"
     },
     "output_type": "display_data"
    }
   ],
   "source": [
    "# __SOLUTION__\n",
    "\n",
    "fig, ax = plt.subplots(figsize=(13, 10))\n",
    "\n",
    "col = 'GrLivArea_log'\n",
    "\n",
    "is_in = preprocessed.loc[preprocessed['Neighborhood_Mitchel'] == 1, [col, 'SalePrice_log']]\n",
    "\n",
    "linreg = LinearRegression()\n",
    "linreg.fit(is_in[[col]], is_in['SalePrice_log'])\n",
    "\n",
    "preds = linreg.predict(is_in[[col]])\n",
    "\n",
    "ax.scatter(is_in[[col]], is_in['SalePrice_log'], alpha=.3, label=None)\n",
    "\n",
    "x = np.linspace(-5, 5)\n",
    "ax.plot(x, linreg.predict(x.reshape(-1, 1)), label=f'In Mitchel:   {linreg.coef_[0]:.2f}')\n",
    "\n",
    "not_in = preprocessed.loc[preprocessed['Neighborhood_Mitchel'] == 0, [col, 'SalePrice_log']]\n",
    "\n",
    "linreg = LinearRegression()\n",
    "linreg.fit(not_in[[col]], not_in['SalePrice_log'])\n",
    "\n",
    "preds = linreg.predict(not_in[[col]])\n",
    "\n",
    "ax.scatter(not_in[[col]], not_in['SalePrice_log'], alpha=.1, label=None)\n",
    "\n",
    "x = np.linspace(-5, 5)\n",
    "ax.plot(x, linreg.predict(x.reshape(-1, 1)), label=f'Outside of Mitchel:   {linreg.coef_[0]:.2f}')\n",
    "\n",
    "ax.legend()"
   ]
  },
  {
   "cell_type": "markdown",
   "metadata": {},
   "source": [
    "## Build a final model with interactions"
   ]
  },
  {
   "cell_type": "markdown",
   "metadata": {},
   "source": [
    "Use 10-fold cross-validation to build a model using the above interaction. "
   ]
  },
  {
   "cell_type": "code",
   "execution_count": null,
   "metadata": {},
   "outputs": [],
   "source": [
    "# code here"
   ]
  },
  {
   "cell_type": "code",
   "execution_count": 6,
   "metadata": {},
   "outputs": [
    {
     "data": {
      "text/plain": [
       "0.8174960819363731"
      ]
     },
     "execution_count": 6,
     "metadata": {},
     "output_type": "execute_result"
    }
   ],
   "source": [
    "# __SOLUTION__ \n",
    "regression = LinearRegression()\n",
    "crossvalidation = KFold(n_splits=10, shuffle=True, random_state=1)\n",
    "final = X.copy()\n",
    "\n",
    "final['Neighborhood_Mitchel*GrLivArea'] = final['Neighborhood_Mitchel'] * final['GrLivArea_log']\n",
    "\n",
    "final_model = np.mean(cross_val_score(regression, final, y, scoring='r2', cv=crossvalidation))\n",
    "\n",
    "final_model"
   ]
  },
  {
   "cell_type": "markdown",
   "metadata": {},
   "source": [
    "Our $R^2$ has not increased considerably. Let's have a look in `statsmodels` to see if these interactions are significant."
   ]
  },
  {
   "cell_type": "code",
   "execution_count": null,
   "metadata": {},
   "outputs": [],
   "source": [
    "# code here"
   ]
  },
  {
   "cell_type": "code",
   "execution_count": 7,
   "metadata": {},
   "outputs": [
    {
     "name": "stderr",
     "output_type": "stream",
     "text": [
      "/Users/pisel/opt/anaconda3/envs/learn-env/lib/python3.8/site-packages/statsmodels/tsa/base/tsa_model.py:7: FutureWarning: pandas.Int64Index is deprecated and will be removed from pandas in a future version. Use pandas.Index with the appropriate dtype instead.\n",
      "  from pandas import (to_datetime, Int64Index, DatetimeIndex, Period,\n",
      "/Users/pisel/opt/anaconda3/envs/learn-env/lib/python3.8/site-packages/statsmodels/tsa/base/tsa_model.py:7: FutureWarning: pandas.Float64Index is deprecated and will be removed from pandas in a future version. Use pandas.Index with the appropriate dtype instead.\n",
      "  from pandas import (to_datetime, Int64Index, DatetimeIndex, Period,\n",
      "/Users/pisel/opt/anaconda3/envs/learn-env/lib/python3.8/site-packages/statsmodels/tsa/tsatools.py:142: FutureWarning: In a future version of pandas all arguments of concat except for the argument 'objs' will be keyword-only.\n",
      "  x = pd.concat(x[::order], 1)\n"
     ]
    },
    {
     "data": {
      "text/html": [
       "<table class=\"simpletable\">\n",
       "<caption>OLS Regression Results</caption>\n",
       "<tr>\n",
       "  <th>Dep. Variable:</th>      <td>SalePrice_log</td>  <th>  R-squared:         </th> <td>   0.839</td>\n",
       "</tr>\n",
       "<tr>\n",
       "  <th>Model:</th>                   <td>OLS</td>       <th>  Adj. R-squared:    </th> <td>   0.834</td>\n",
       "</tr>\n",
       "<tr>\n",
       "  <th>Method:</th>             <td>Least Squares</td>  <th>  F-statistic:       </th> <td>   153.4</td>\n",
       "</tr>\n",
       "<tr>\n",
       "  <th>Date:</th>             <td>Tue, 07 Mar 2023</td> <th>  Prob (F-statistic):</th>  <td>  0.00</td> \n",
       "</tr>\n",
       "<tr>\n",
       "  <th>Time:</th>                 <td>08:49:31</td>     <th>  Log-Likelihood:    </th> <td> -737.11</td>\n",
       "</tr>\n",
       "<tr>\n",
       "  <th>No. Observations:</th>      <td>  1460</td>      <th>  AIC:               </th> <td>   1572.</td>\n",
       "</tr>\n",
       "<tr>\n",
       "  <th>Df Residuals:</th>          <td>  1411</td>      <th>  BIC:               </th> <td>   1831.</td>\n",
       "</tr>\n",
       "<tr>\n",
       "  <th>Df Model:</th>              <td>    48</td>      <th>                     </th>     <td> </td>   \n",
       "</tr>\n",
       "<tr>\n",
       "  <th>Covariance Type:</th>      <td>nonrobust</td>    <th>                     </th>     <td> </td>   \n",
       "</tr>\n",
       "</table>\n",
       "<table class=\"simpletable\">\n",
       "<tr>\n",
       "                 <td></td>                   <th>coef</th>     <th>std err</th>      <th>t</th>      <th>P>|t|</th>  <th>[0.025</th>    <th>0.975]</th>  \n",
       "</tr>\n",
       "<tr>\n",
       "  <th>LotArea_log</th>                    <td>    0.1039</td> <td>    0.019</td> <td>    5.506</td> <td> 0.000</td> <td>    0.067</td> <td>    0.141</td>\n",
       "</tr>\n",
       "<tr>\n",
       "  <th>1stFlrSF_log</th>                   <td>    0.1378</td> <td>    0.016</td> <td>    8.625</td> <td> 0.000</td> <td>    0.106</td> <td>    0.169</td>\n",
       "</tr>\n",
       "<tr>\n",
       "  <th>GrLivArea_log</th>                  <td>    0.3795</td> <td>    0.016</td> <td>   24.115</td> <td> 0.000</td> <td>    0.349</td> <td>    0.410</td>\n",
       "</tr>\n",
       "<tr>\n",
       "  <th>BldgType_1Fam</th>                  <td>    0.1308</td> <td>    0.037</td> <td>    3.565</td> <td> 0.000</td> <td>    0.059</td> <td>    0.203</td>\n",
       "</tr>\n",
       "<tr>\n",
       "  <th>BldgType_2fmCon</th>                <td>   -0.0380</td> <td>    0.073</td> <td>   -0.517</td> <td> 0.605</td> <td>   -0.182</td> <td>    0.106</td>\n",
       "</tr>\n",
       "<tr>\n",
       "  <th>BldgType_Duplex</th>                <td>   -0.2777</td> <td>    0.058</td> <td>   -4.796</td> <td> 0.000</td> <td>   -0.391</td> <td>   -0.164</td>\n",
       "</tr>\n",
       "<tr>\n",
       "  <th>BldgType_Twnhs</th>                 <td>   -0.0067</td> <td>    0.075</td> <td>   -0.089</td> <td> 0.929</td> <td>   -0.154</td> <td>    0.141</td>\n",
       "</tr>\n",
       "<tr>\n",
       "  <th>BldgType_TwnhsE</th>                <td>    0.0829</td> <td>    0.049</td> <td>    1.688</td> <td> 0.092</td> <td>   -0.013</td> <td>    0.179</td>\n",
       "</tr>\n",
       "<tr>\n",
       "  <th>KitchenQual_Ex</th>                 <td>    0.4844</td> <td>    0.049</td> <td>    9.967</td> <td> 0.000</td> <td>    0.389</td> <td>    0.580</td>\n",
       "</tr>\n",
       "<tr>\n",
       "  <th>KitchenQual_Fa</th>                 <td>   -0.5137</td> <td>    0.060</td> <td>   -8.525</td> <td> 0.000</td> <td>   -0.632</td> <td>   -0.395</td>\n",
       "</tr>\n",
       "<tr>\n",
       "  <th>KitchenQual_Gd</th>                 <td>    0.1049</td> <td>    0.032</td> <td>    3.276</td> <td> 0.001</td> <td>    0.042</td> <td>    0.168</td>\n",
       "</tr>\n",
       "<tr>\n",
       "  <th>KitchenQual_TA</th>                 <td>   -0.1843</td> <td>    0.031</td> <td>   -5.981</td> <td> 0.000</td> <td>   -0.245</td> <td>   -0.124</td>\n",
       "</tr>\n",
       "<tr>\n",
       "  <th>SaleType_COD</th>                   <td>   -0.2035</td> <td>    0.080</td> <td>   -2.559</td> <td> 0.011</td> <td>   -0.359</td> <td>   -0.047</td>\n",
       "</tr>\n",
       "<tr>\n",
       "  <th>SaleType_CWD</th>                   <td>    0.0203</td> <td>    0.191</td> <td>    0.106</td> <td> 0.915</td> <td>   -0.355</td> <td>    0.396</td>\n",
       "</tr>\n",
       "<tr>\n",
       "  <th>SaleType_Con</th>                   <td>    0.3785</td> <td>    0.270</td> <td>    1.400</td> <td> 0.162</td> <td>   -0.152</td> <td>    0.909</td>\n",
       "</tr>\n",
       "<tr>\n",
       "  <th>SaleType_ConLD</th>                 <td>    0.1088</td> <td>    0.137</td> <td>    0.793</td> <td> 0.428</td> <td>   -0.160</td> <td>    0.378</td>\n",
       "</tr>\n",
       "<tr>\n",
       "  <th>SaleType_ConLI</th>                 <td>   -0.1749</td> <td>    0.173</td> <td>   -1.011</td> <td> 0.312</td> <td>   -0.514</td> <td>    0.164</td>\n",
       "</tr>\n",
       "<tr>\n",
       "  <th>SaleType_ConLw</th>                 <td>   -0.1883</td> <td>    0.174</td> <td>   -1.084</td> <td> 0.278</td> <td>   -0.529</td> <td>    0.152</td>\n",
       "</tr>\n",
       "<tr>\n",
       "  <th>SaleType_New</th>                   <td>    0.0935</td> <td>    0.067</td> <td>    1.400</td> <td> 0.162</td> <td>   -0.037</td> <td>    0.224</td>\n",
       "</tr>\n",
       "<tr>\n",
       "  <th>SaleType_Oth</th>                   <td>   -0.1126</td> <td>    0.219</td> <td>   -0.513</td> <td> 0.608</td> <td>   -0.543</td> <td>    0.318</td>\n",
       "</tr>\n",
       "<tr>\n",
       "  <th>SaleType_WD</th>                    <td>   -0.0305</td> <td>    0.056</td> <td>   -0.548</td> <td> 0.584</td> <td>   -0.140</td> <td>    0.079</td>\n",
       "</tr>\n",
       "<tr>\n",
       "  <th>MSZoning_C (all)</th>               <td>   -0.8295</td> <td>    0.131</td> <td>   -6.321</td> <td> 0.000</td> <td>   -1.087</td> <td>   -0.572</td>\n",
       "</tr>\n",
       "<tr>\n",
       "  <th>MSZoning_FV</th>                    <td>    0.2370</td> <td>    0.097</td> <td>    2.435</td> <td> 0.015</td> <td>    0.046</td> <td>    0.428</td>\n",
       "</tr>\n",
       "<tr>\n",
       "  <th>MSZoning_RH</th>                    <td>    0.0462</td> <td>    0.100</td> <td>    0.463</td> <td> 0.643</td> <td>   -0.149</td> <td>    0.242</td>\n",
       "</tr>\n",
       "<tr>\n",
       "  <th>MSZoning_RL</th>                    <td>    0.1659</td> <td>    0.049</td> <td>    3.402</td> <td> 0.001</td> <td>    0.070</td> <td>    0.262</td>\n",
       "</tr>\n",
       "<tr>\n",
       "  <th>MSZoning_RM</th>                    <td>    0.2718</td> <td>    0.055</td> <td>    4.931</td> <td> 0.000</td> <td>    0.164</td> <td>    0.380</td>\n",
       "</tr>\n",
       "<tr>\n",
       "  <th>Street_Grvl</th>                    <td>    0.0505</td> <td>    0.124</td> <td>    0.407</td> <td> 0.684</td> <td>   -0.193</td> <td>    0.294</td>\n",
       "</tr>\n",
       "<tr>\n",
       "  <th>Street_Pave</th>                    <td>   -0.1592</td> <td>    0.066</td> <td>   -2.398</td> <td> 0.017</td> <td>   -0.289</td> <td>   -0.029</td>\n",
       "</tr>\n",
       "<tr>\n",
       "  <th>Neighborhood_Blmngtn</th>           <td>    0.2302</td> <td>    0.111</td> <td>    2.070</td> <td> 0.039</td> <td>    0.012</td> <td>    0.448</td>\n",
       "</tr>\n",
       "<tr>\n",
       "  <th>Neighborhood_Blueste</th>           <td>    0.2869</td> <td>    0.286</td> <td>    1.001</td> <td> 0.317</td> <td>   -0.275</td> <td>    0.849</td>\n",
       "</tr>\n",
       "<tr>\n",
       "  <th>Neighborhood_BrDale</th>            <td>   -0.2264</td> <td>    0.122</td> <td>   -1.854</td> <td> 0.064</td> <td>   -0.466</td> <td>    0.013</td>\n",
       "</tr>\n",
       "<tr>\n",
       "  <th>Neighborhood_BrkSide</th>           <td>   -0.4134</td> <td>    0.063</td> <td>   -6.536</td> <td> 0.000</td> <td>   -0.537</td> <td>   -0.289</td>\n",
       "</tr>\n",
       "<tr>\n",
       "  <th>Neighborhood_ClearCr</th>           <td>    0.0203</td> <td>    0.082</td> <td>    0.247</td> <td> 0.805</td> <td>   -0.141</td> <td>    0.181</td>\n",
       "</tr>\n",
       "<tr>\n",
       "  <th>Neighborhood_CollgCr</th>           <td>    0.1565</td> <td>    0.041</td> <td>    3.822</td> <td> 0.000</td> <td>    0.076</td> <td>    0.237</td>\n",
       "</tr>\n",
       "<tr>\n",
       "  <th>Neighborhood_Crawfor</th>           <td>    0.1485</td> <td>    0.060</td> <td>    2.472</td> <td> 0.014</td> <td>    0.031</td> <td>    0.266</td>\n",
       "</tr>\n",
       "<tr>\n",
       "  <th>Neighborhood_Edwards</th>           <td>   -0.5271</td> <td>    0.046</td> <td>  -11.486</td> <td> 0.000</td> <td>   -0.617</td> <td>   -0.437</td>\n",
       "</tr>\n",
       "<tr>\n",
       "  <th>Neighborhood_Gilbert</th>           <td>    0.1345</td> <td>    0.053</td> <td>    2.559</td> <td> 0.011</td> <td>    0.031</td> <td>    0.238</td>\n",
       "</tr>\n",
       "<tr>\n",
       "  <th>Neighborhood_IDOTRR</th>            <td>   -0.7253</td> <td>    0.093</td> <td>   -7.787</td> <td> 0.000</td> <td>   -0.908</td> <td>   -0.543</td>\n",
       "</tr>\n",
       "<tr>\n",
       "  <th>Neighborhood_MeadowV</th>           <td>   -0.4548</td> <td>    0.111</td> <td>   -4.087</td> <td> 0.000</td> <td>   -0.673</td> <td>   -0.237</td>\n",
       "</tr>\n",
       "<tr>\n",
       "  <th>Neighborhood_Mitchel</th>           <td>   -0.0649</td> <td>    0.069</td> <td>   -0.945</td> <td> 0.345</td> <td>   -0.199</td> <td>    0.070</td>\n",
       "</tr>\n",
       "<tr>\n",
       "  <th>Neighborhood_NAmes</th>             <td>   -0.2068</td> <td>    0.038</td> <td>   -5.454</td> <td> 0.000</td> <td>   -0.281</td> <td>   -0.132</td>\n",
       "</tr>\n",
       "<tr>\n",
       "  <th>Neighborhood_NPkVill</th>           <td>    0.2175</td> <td>    0.141</td> <td>    1.542</td> <td> 0.123</td> <td>   -0.059</td> <td>    0.494</td>\n",
       "</tr>\n",
       "<tr>\n",
       "  <th>Neighborhood_NWAmes</th>            <td>   -0.0364</td> <td>    0.053</td> <td>   -0.685</td> <td> 0.493</td> <td>   -0.141</td> <td>    0.068</td>\n",
       "</tr>\n",
       "<tr>\n",
       "  <th>Neighborhood_NoRidge</th>           <td>    0.5903</td> <td>    0.070</td> <td>    8.432</td> <td> 0.000</td> <td>    0.453</td> <td>    0.728</td>\n",
       "</tr>\n",
       "<tr>\n",
       "  <th>Neighborhood_NridgHt</th>           <td>    0.5927</td> <td>    0.058</td> <td>   10.245</td> <td> 0.000</td> <td>    0.479</td> <td>    0.706</td>\n",
       "</tr>\n",
       "<tr>\n",
       "  <th>Neighborhood_OldTown</th>           <td>   -0.7009</td> <td>    0.062</td> <td>  -11.390</td> <td> 0.000</td> <td>   -0.822</td> <td>   -0.580</td>\n",
       "</tr>\n",
       "<tr>\n",
       "  <th>Neighborhood_SWISU</th>             <td>   -0.4675</td> <td>    0.086</td> <td>   -5.417</td> <td> 0.000</td> <td>   -0.637</td> <td>   -0.298</td>\n",
       "</tr>\n",
       "<tr>\n",
       "  <th>Neighborhood_Sawyer</th>            <td>   -0.2409</td> <td>    0.054</td> <td>   -4.471</td> <td> 0.000</td> <td>   -0.347</td> <td>   -0.135</td>\n",
       "</tr>\n",
       "<tr>\n",
       "  <th>Neighborhood_SawyerW</th>           <td>   -0.0023</td> <td>    0.058</td> <td>   -0.040</td> <td> 0.968</td> <td>   -0.116</td> <td>    0.111</td>\n",
       "</tr>\n",
       "<tr>\n",
       "  <th>Neighborhood_Somerst</th>           <td>    0.3264</td> <td>    0.092</td> <td>    3.553</td> <td> 0.000</td> <td>    0.146</td> <td>    0.507</td>\n",
       "</tr>\n",
       "<tr>\n",
       "  <th>Neighborhood_StoneBr</th>           <td>    0.6589</td> <td>    0.087</td> <td>    7.545</td> <td> 0.000</td> <td>    0.488</td> <td>    0.830</td>\n",
       "</tr>\n",
       "<tr>\n",
       "  <th>Neighborhood_Timber</th>            <td>    0.2364</td> <td>    0.070</td> <td>    3.370</td> <td> 0.001</td> <td>    0.099</td> <td>    0.374</td>\n",
       "</tr>\n",
       "<tr>\n",
       "  <th>Neighborhood_Veenker</th>           <td>    0.3589</td> <td>    0.125</td> <td>    2.877</td> <td> 0.004</td> <td>    0.114</td> <td>    0.604</td>\n",
       "</tr>\n",
       "<tr>\n",
       "  <th>Neighborhood_Mitchel*GrLivArea</th> <td>   -0.0992</td> <td>    0.070</td> <td>   -1.408</td> <td> 0.159</td> <td>   -0.237</td> <td>    0.039</td>\n",
       "</tr>\n",
       "</table>\n",
       "<table class=\"simpletable\">\n",
       "<tr>\n",
       "  <th>Omnibus:</th>       <td>292.331</td> <th>  Durbin-Watson:     </th> <td>   1.971</td> \n",
       "</tr>\n",
       "<tr>\n",
       "  <th>Prob(Omnibus):</th> <td> 0.000</td>  <th>  Jarque-Bera (JB):  </th> <td>1260.547</td> \n",
       "</tr>\n",
       "<tr>\n",
       "  <th>Skew:</th>          <td>-0.891</td>  <th>  Prob(JB):          </th> <td>1.89e-274</td>\n",
       "</tr>\n",
       "<tr>\n",
       "  <th>Kurtosis:</th>      <td> 7.188</td>  <th>  Cond. No.          </th> <td>1.69e+16</td> \n",
       "</tr>\n",
       "</table><br/><br/>Notes:<br/>[1] Standard Errors assume that the covariance matrix of the errors is correctly specified.<br/>[2] The smallest eigenvalue is 1.9e-29. This might indicate that there are<br/>strong multicollinearity problems or that the design matrix is singular."
      ],
      "text/plain": [
       "<class 'statsmodels.iolib.summary.Summary'>\n",
       "\"\"\"\n",
       "                            OLS Regression Results                            \n",
       "==============================================================================\n",
       "Dep. Variable:          SalePrice_log   R-squared:                       0.839\n",
       "Model:                            OLS   Adj. R-squared:                  0.834\n",
       "Method:                 Least Squares   F-statistic:                     153.4\n",
       "Date:                Tue, 07 Mar 2023   Prob (F-statistic):               0.00\n",
       "Time:                        08:49:31   Log-Likelihood:                -737.11\n",
       "No. Observations:                1460   AIC:                             1572.\n",
       "Df Residuals:                    1411   BIC:                             1831.\n",
       "Df Model:                          48                                         \n",
       "Covariance Type:            nonrobust                                         \n",
       "==================================================================================================\n",
       "                                     coef    std err          t      P>|t|      [0.025      0.975]\n",
       "--------------------------------------------------------------------------------------------------\n",
       "LotArea_log                        0.1039      0.019      5.506      0.000       0.067       0.141\n",
       "1stFlrSF_log                       0.1378      0.016      8.625      0.000       0.106       0.169\n",
       "GrLivArea_log                      0.3795      0.016     24.115      0.000       0.349       0.410\n",
       "BldgType_1Fam                      0.1308      0.037      3.565      0.000       0.059       0.203\n",
       "BldgType_2fmCon                   -0.0380      0.073     -0.517      0.605      -0.182       0.106\n",
       "BldgType_Duplex                   -0.2777      0.058     -4.796      0.000      -0.391      -0.164\n",
       "BldgType_Twnhs                    -0.0067      0.075     -0.089      0.929      -0.154       0.141\n",
       "BldgType_TwnhsE                    0.0829      0.049      1.688      0.092      -0.013       0.179\n",
       "KitchenQual_Ex                     0.4844      0.049      9.967      0.000       0.389       0.580\n",
       "KitchenQual_Fa                    -0.5137      0.060     -8.525      0.000      -0.632      -0.395\n",
       "KitchenQual_Gd                     0.1049      0.032      3.276      0.001       0.042       0.168\n",
       "KitchenQual_TA                    -0.1843      0.031     -5.981      0.000      -0.245      -0.124\n",
       "SaleType_COD                      -0.2035      0.080     -2.559      0.011      -0.359      -0.047\n",
       "SaleType_CWD                       0.0203      0.191      0.106      0.915      -0.355       0.396\n",
       "SaleType_Con                       0.3785      0.270      1.400      0.162      -0.152       0.909\n",
       "SaleType_ConLD                     0.1088      0.137      0.793      0.428      -0.160       0.378\n",
       "SaleType_ConLI                    -0.1749      0.173     -1.011      0.312      -0.514       0.164\n",
       "SaleType_ConLw                    -0.1883      0.174     -1.084      0.278      -0.529       0.152\n",
       "SaleType_New                       0.0935      0.067      1.400      0.162      -0.037       0.224\n",
       "SaleType_Oth                      -0.1126      0.219     -0.513      0.608      -0.543       0.318\n",
       "SaleType_WD                       -0.0305      0.056     -0.548      0.584      -0.140       0.079\n",
       "MSZoning_C (all)                  -0.8295      0.131     -6.321      0.000      -1.087      -0.572\n",
       "MSZoning_FV                        0.2370      0.097      2.435      0.015       0.046       0.428\n",
       "MSZoning_RH                        0.0462      0.100      0.463      0.643      -0.149       0.242\n",
       "MSZoning_RL                        0.1659      0.049      3.402      0.001       0.070       0.262\n",
       "MSZoning_RM                        0.2718      0.055      4.931      0.000       0.164       0.380\n",
       "Street_Grvl                        0.0505      0.124      0.407      0.684      -0.193       0.294\n",
       "Street_Pave                       -0.1592      0.066     -2.398      0.017      -0.289      -0.029\n",
       "Neighborhood_Blmngtn               0.2302      0.111      2.070      0.039       0.012       0.448\n",
       "Neighborhood_Blueste               0.2869      0.286      1.001      0.317      -0.275       0.849\n",
       "Neighborhood_BrDale               -0.2264      0.122     -1.854      0.064      -0.466       0.013\n",
       "Neighborhood_BrkSide              -0.4134      0.063     -6.536      0.000      -0.537      -0.289\n",
       "Neighborhood_ClearCr               0.0203      0.082      0.247      0.805      -0.141       0.181\n",
       "Neighborhood_CollgCr               0.1565      0.041      3.822      0.000       0.076       0.237\n",
       "Neighborhood_Crawfor               0.1485      0.060      2.472      0.014       0.031       0.266\n",
       "Neighborhood_Edwards              -0.5271      0.046    -11.486      0.000      -0.617      -0.437\n",
       "Neighborhood_Gilbert               0.1345      0.053      2.559      0.011       0.031       0.238\n",
       "Neighborhood_IDOTRR               -0.7253      0.093     -7.787      0.000      -0.908      -0.543\n",
       "Neighborhood_MeadowV              -0.4548      0.111     -4.087      0.000      -0.673      -0.237\n",
       "Neighborhood_Mitchel              -0.0649      0.069     -0.945      0.345      -0.199       0.070\n",
       "Neighborhood_NAmes                -0.2068      0.038     -5.454      0.000      -0.281      -0.132\n",
       "Neighborhood_NPkVill               0.2175      0.141      1.542      0.123      -0.059       0.494\n",
       "Neighborhood_NWAmes               -0.0364      0.053     -0.685      0.493      -0.141       0.068\n",
       "Neighborhood_NoRidge               0.5903      0.070      8.432      0.000       0.453       0.728\n",
       "Neighborhood_NridgHt               0.5927      0.058     10.245      0.000       0.479       0.706\n",
       "Neighborhood_OldTown              -0.7009      0.062    -11.390      0.000      -0.822      -0.580\n",
       "Neighborhood_SWISU                -0.4675      0.086     -5.417      0.000      -0.637      -0.298\n",
       "Neighborhood_Sawyer               -0.2409      0.054     -4.471      0.000      -0.347      -0.135\n",
       "Neighborhood_SawyerW              -0.0023      0.058     -0.040      0.968      -0.116       0.111\n",
       "Neighborhood_Somerst               0.3264      0.092      3.553      0.000       0.146       0.507\n",
       "Neighborhood_StoneBr               0.6589      0.087      7.545      0.000       0.488       0.830\n",
       "Neighborhood_Timber                0.2364      0.070      3.370      0.001       0.099       0.374\n",
       "Neighborhood_Veenker               0.3589      0.125      2.877      0.004       0.114       0.604\n",
       "Neighborhood_Mitchel*GrLivArea    -0.0992      0.070     -1.408      0.159      -0.237       0.039\n",
       "==============================================================================\n",
       "Omnibus:                      292.331   Durbin-Watson:                   1.971\n",
       "Prob(Omnibus):                  0.000   Jarque-Bera (JB):             1260.547\n",
       "Skew:                          -0.891   Prob(JB):                    1.89e-274\n",
       "Kurtosis:                       7.188   Cond. No.                     1.69e+16\n",
       "==============================================================================\n",
       "\n",
       "Notes:\n",
       "[1] Standard Errors assume that the covariance matrix of the errors is correctly specified.\n",
       "[2] The smallest eigenvalue is 1.9e-29. This might indicate that there are\n",
       "strong multicollinearity problems or that the design matrix is singular.\n",
       "\"\"\""
      ]
     },
     "execution_count": 7,
     "metadata": {},
     "output_type": "execute_result"
    }
   ],
   "source": [
    "# __SOLUTION__ \n",
    "import statsmodels.api as sm\n",
    "df_inter_sm = sm.add_constant(final)\n",
    "model = sm.OLS(y,final)\n",
    "results = model.fit()\n",
    "\n",
    "results.summary()"
   ]
  },
  {
   "cell_type": "markdown",
   "metadata": {},
   "source": [
    "What is your conclusion here?"
   ]
  },
  {
   "cell_type": "code",
   "execution_count": null,
   "metadata": {},
   "outputs": [],
   "source": [
    "# formulate your conclusion"
   ]
  },
  {
   "cell_type": "markdown",
   "metadata": {},
   "source": [
    "## Summary"
   ]
  },
  {
   "cell_type": "markdown",
   "metadata": {},
   "source": [
    "You should now understand how to include interaction effects in your model! As you can see, interactions can have a strong impact on linear regression models, and they should always be considered when you are constructing your models."
   ]
  }
 ],
 "metadata": {
  "kernelspec": {
   "display_name": "Python 3",
   "language": "python",
   "name": "python3"
  },
  "language_info": {
   "codemirror_mode": {
    "name": "ipython",
    "version": 3
   },
   "file_extension": ".py",
   "mimetype": "text/x-python",
   "name": "python",
   "nbconvert_exporter": "python",
   "pygments_lexer": "ipython3",
   "version": "3.8.5"
  }
 },
 "nbformat": 4,
 "nbformat_minor": 2
}
